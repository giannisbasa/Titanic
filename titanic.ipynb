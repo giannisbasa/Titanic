{
 "cells": [
  {
   "cell_type": "markdown",
   "metadata": {},
   "source": [
    "### Exploratory Data Analysis of Titanic"
   ]
  },
  {
   "cell_type": "code",
   "execution_count": 1,
   "metadata": {},
   "outputs": [],
   "source": [
    "import numpy as np\n",
    "import pandas as pd\n",
    "import matplotlib.pyplot as plt\n",
    "import seaborn as sns\n",
    "from scipy.stats import norm\n",
    "import warnings\n",
    "warnings.filterwarnings('ignore')\n",
    "%matplotlib inline"
   ]
  },
  {
   "cell_type": "code",
   "execution_count": 2,
   "metadata": {},
   "outputs": [
    {
     "data": {
      "text/html": [
       "<div>\n",
       "<style scoped>\n",
       "    .dataframe tbody tr th:only-of-type {\n",
       "        vertical-align: middle;\n",
       "    }\n",
       "\n",
       "    .dataframe tbody tr th {\n",
       "        vertical-align: top;\n",
       "    }\n",
       "\n",
       "    .dataframe thead th {\n",
       "        text-align: right;\n",
       "    }\n",
       "</style>\n",
       "<table border=\"1\" class=\"dataframe\">\n",
       "  <thead>\n",
       "    <tr style=\"text-align: right;\">\n",
       "      <th></th>\n",
       "      <th>PassengerId</th>\n",
       "      <th>Survived</th>\n",
       "      <th>Pclass</th>\n",
       "      <th>Name</th>\n",
       "      <th>Sex</th>\n",
       "      <th>Age</th>\n",
       "      <th>SibSp</th>\n",
       "      <th>Parch</th>\n",
       "      <th>Ticket</th>\n",
       "      <th>Fare</th>\n",
       "      <th>Cabin</th>\n",
       "      <th>Embarked</th>\n",
       "    </tr>\n",
       "  </thead>\n",
       "  <tbody>\n",
       "    <tr>\n",
       "      <td>0</td>\n",
       "      <td>1</td>\n",
       "      <td>0</td>\n",
       "      <td>3</td>\n",
       "      <td>Braund, Mr. Owen Harris</td>\n",
       "      <td>male</td>\n",
       "      <td>22.0</td>\n",
       "      <td>1</td>\n",
       "      <td>0</td>\n",
       "      <td>A/5 21171</td>\n",
       "      <td>7.2500</td>\n",
       "      <td>NaN</td>\n",
       "      <td>S</td>\n",
       "    </tr>\n",
       "    <tr>\n",
       "      <td>1</td>\n",
       "      <td>2</td>\n",
       "      <td>1</td>\n",
       "      <td>1</td>\n",
       "      <td>Cumings, Mrs. John Bradley (Florence Briggs Th...</td>\n",
       "      <td>female</td>\n",
       "      <td>38.0</td>\n",
       "      <td>1</td>\n",
       "      <td>0</td>\n",
       "      <td>PC 17599</td>\n",
       "      <td>71.2833</td>\n",
       "      <td>C85</td>\n",
       "      <td>C</td>\n",
       "    </tr>\n",
       "    <tr>\n",
       "      <td>2</td>\n",
       "      <td>3</td>\n",
       "      <td>1</td>\n",
       "      <td>3</td>\n",
       "      <td>Heikkinen, Miss. Laina</td>\n",
       "      <td>female</td>\n",
       "      <td>26.0</td>\n",
       "      <td>0</td>\n",
       "      <td>0</td>\n",
       "      <td>STON/O2. 3101282</td>\n",
       "      <td>7.9250</td>\n",
       "      <td>NaN</td>\n",
       "      <td>S</td>\n",
       "    </tr>\n",
       "    <tr>\n",
       "      <td>3</td>\n",
       "      <td>4</td>\n",
       "      <td>1</td>\n",
       "      <td>1</td>\n",
       "      <td>Futrelle, Mrs. Jacques Heath (Lily May Peel)</td>\n",
       "      <td>female</td>\n",
       "      <td>35.0</td>\n",
       "      <td>1</td>\n",
       "      <td>0</td>\n",
       "      <td>113803</td>\n",
       "      <td>53.1000</td>\n",
       "      <td>C123</td>\n",
       "      <td>S</td>\n",
       "    </tr>\n",
       "    <tr>\n",
       "      <td>4</td>\n",
       "      <td>5</td>\n",
       "      <td>0</td>\n",
       "      <td>3</td>\n",
       "      <td>Allen, Mr. William Henry</td>\n",
       "      <td>male</td>\n",
       "      <td>35.0</td>\n",
       "      <td>0</td>\n",
       "      <td>0</td>\n",
       "      <td>373450</td>\n",
       "      <td>8.0500</td>\n",
       "      <td>NaN</td>\n",
       "      <td>S</td>\n",
       "    </tr>\n",
       "  </tbody>\n",
       "</table>\n",
       "</div>"
      ],
      "text/plain": [
       "   PassengerId  Survived  Pclass  \\\n",
       "0            1         0       3   \n",
       "1            2         1       1   \n",
       "2            3         1       3   \n",
       "3            4         1       1   \n",
       "4            5         0       3   \n",
       "\n",
       "                                                Name     Sex   Age  SibSp  \\\n",
       "0                            Braund, Mr. Owen Harris    male  22.0      1   \n",
       "1  Cumings, Mrs. John Bradley (Florence Briggs Th...  female  38.0      1   \n",
       "2                             Heikkinen, Miss. Laina  female  26.0      0   \n",
       "3       Futrelle, Mrs. Jacques Heath (Lily May Peel)  female  35.0      1   \n",
       "4                           Allen, Mr. William Henry    male  35.0      0   \n",
       "\n",
       "   Parch            Ticket     Fare Cabin Embarked  \n",
       "0      0         A/5 21171   7.2500   NaN        S  \n",
       "1      0          PC 17599  71.2833   C85        C  \n",
       "2      0  STON/O2. 3101282   7.9250   NaN        S  \n",
       "3      0            113803  53.1000  C123        S  \n",
       "4      0            373450   8.0500   NaN        S  "
      ]
     },
     "execution_count": 2,
     "metadata": {},
     "output_type": "execute_result"
    }
   ],
   "source": [
    "titanic = pd.read_csv('titanic.csv')\n",
    "titanic.head()"
   ]
  },
  {
   "cell_type": "markdown",
   "metadata": {},
   "source": [
    "#### Basic information about the dataset"
   ]
  },
  {
   "cell_type": "code",
   "execution_count": 3,
   "metadata": {},
   "outputs": [
    {
     "name": "stdout",
     "output_type": "stream",
     "text": [
      "(891, 12) \n",
      "\n",
      "<class 'pandas.core.frame.DataFrame'>\n",
      "RangeIndex: 891 entries, 0 to 890\n",
      "Data columns (total 12 columns):\n",
      "PassengerId    891 non-null int64\n",
      "Survived       891 non-null int64\n",
      "Pclass         891 non-null int64\n",
      "Name           891 non-null object\n",
      "Sex            891 non-null object\n",
      "Age            714 non-null float64\n",
      "SibSp          891 non-null int64\n",
      "Parch          891 non-null int64\n",
      "Ticket         891 non-null object\n",
      "Fare           891 non-null float64\n",
      "Cabin          204 non-null object\n",
      "Embarked       889 non-null object\n",
      "dtypes: float64(2), int64(5), object(5)\n",
      "memory usage: 83.7+ KB\n",
      "None \n",
      "\n",
      "PassengerId      0\n",
      "Survived         0\n",
      "Pclass           0\n",
      "Name             0\n",
      "Sex              0\n",
      "Age            177\n",
      "SibSp            0\n",
      "Parch            0\n",
      "Ticket           0\n",
      "Fare             0\n",
      "Cabin          687\n",
      "Embarked         2\n",
      "dtype: int64 \n",
      "\n",
      "PassengerId      int64\n",
      "Survived         int64\n",
      "Pclass           int64\n",
      "Name            object\n",
      "Sex             object\n",
      "Age            float64\n",
      "SibSp            int64\n",
      "Parch            int64\n",
      "Ticket          object\n",
      "Fare           float64\n",
      "Cabin           object\n",
      "Embarked        object\n",
      "dtype: object\n"
     ]
    }
   ],
   "source": [
    "print(titanic.shape,'\\n') \n",
    "print(titanic.info(),'\\n') # there are columns with nan\n",
    "print(titanic.isna().sum(),'\\n') # where and how many nan\n",
    "print(titanic.dtypes)"
   ]
  },
  {
   "cell_type": "markdown",
   "metadata": {},
   "source": [
    "#### Question 1: How many survived?"
   ]
  },
  {
   "cell_type": "code",
   "execution_count": 4,
   "metadata": {},
   "outputs": [
    {
     "name": "stdout",
     "output_type": "stream",
     "text": [
      "Survived 342 passengers, that is 38.38% of total passengers\n",
      "Not survived 549 passengers, that is 61.62% of total passengers\n"
     ]
    }
   ],
   "source": [
    "x = titanic.Survived.value_counts()\n",
    "\n",
    "# Calculating the percentage of survived / not survived\n",
    "not_surv = (x[0]/len(titanic.Survived))*100\n",
    "surv = (x[1]/len(titanic.Survived))*100\n",
    "\n",
    "# Print\n",
    "print('Survived {} passengers, that is {:.2f}% of total passengers'.format(x[1], surv))\n",
    "print('Not survived {} passengers, that is {:.2f}% of total passengers'.format(x[0], not_surv))"
   ]
  },
  {
   "cell_type": "code",
   "execution_count": 5,
   "metadata": {},
   "outputs": [
    {
     "data": {
      "image/png": "[encoded data removed]",
      "text/plain": [
       "<Figure size 576x396 with 1 Axes>"
      ]
     },
     "metadata": {},
     "output_type": "display_data"
    }
   ],
   "source": [
    "# Plotting the above\n",
    "plt.style.use('seaborn')\n",
    "ax = sns.countplot('Survived', data = titanic, palette = 'Set3')\n",
    "plt.title('Survived vs Not survived',fontdict={'fontweight': 'bold',\n",
    "                                              'fontsize': 18})\n",
    "plt.show()"
   ]
  },
  {
   "cell_type": "markdown",
   "metadata": {},
   "source": [
    "###### Analysis\n",
    "It is clear that more than half of passengers did not survived. "
   ]
  },
  {
   "cell_type": "markdown",
   "metadata": {},
   "source": [
    "#### Question 2: How many cases of classes we have"
   ]
  },
  {
   "cell_type": "code",
   "execution_count": 6,
   "metadata": {},
   "outputs": [
    {
     "name": "stdout",
     "output_type": "stream",
     "text": [
      "There are 216 Class 1 cabins, that is 24.24% of total cabins\n",
      "There are 184 Class 2 cabins, that is 20.65% of total cabins\n",
      "There are 491 Class 3 cabins, that is 55.11% of total cabins\n"
     ]
    }
   ],
   "source": [
    "p = titanic.Pclass.value_counts().sort_index()\n",
    "\n",
    "# Calculating the percentage of each class\n",
    "class1 = (p[1]/len(titanic.Pclass))*100\n",
    "class2 = (p[2]/len(titanic.Pclass))*100\n",
    "class3 = (p[3]/len(titanic.Pclass))*100\n",
    "\n",
    "# Print\n",
    "print('There are {} Class 1 cabins, that is {:.2f}% of total cabins'.format(p[1], class1))\n",
    "print('There are {} Class 2 cabins, that is {:.2f}% of total cabins'.format(p[2], class2))\n",
    "print('There are {} Class 3 cabins, that is {:.2f}% of total cabins'.format(p[3], class3))"
   ]
  },
  {
   "cell_type": "code",
   "execution_count": 7,
   "metadata": {},
   "outputs": [
    {
     "data": {
      "image/png": "[encoded data removed]",
      "text/plain": [
       "<Figure size 576x396 with 1 Axes>"
      ]
     },
     "metadata": {},
     "output_type": "display_data"
    }
   ],
   "source": [
    "# Plotting the above\n",
    "sns.set(style = 'darkgrid')\n",
    "sns.countplot('Pclass', data = titanic, palette = 'Paired')\n",
    "plt.title('Number of each class',fontdict={'fontweight': 'bold',\n",
    "                                              'fontsize': 18})\n",
    "plt.show()"
   ]
  },
  {
   "cell_type": "markdown",
   "metadata": {},
   "source": [
    "#### Question 3: How many passengers by gender"
   ]
  },
  {
   "cell_type": "code",
   "execution_count": 8,
   "metadata": {},
   "outputs": [
    {
     "name": "stdout",
     "output_type": "stream",
     "text": [
      "There are 577 male, that is 64.76% of total passengers\n",
      "There are 314 female, that is 35.24% of total passengers\n"
     ]
    }
   ],
   "source": [
    "s = titanic.Sex.value_counts()\n",
    "\n",
    "# Calculating the percentage of each class\n",
    "male = (s[0]/len(titanic.Sex))*100\n",
    "female = (s[1]/len(titanic.Sex))*100\n",
    "\n",
    "# Print1\n",
    "print('There are {} male, that is {:.2f}% of total passengers'.format(s[0], male))\n",
    "print('There are {} female, that is {:.2f}% of total passengers'.format(s[1], female))"
   ]
  },
  {
   "cell_type": "code",
   "execution_count": 9,
   "metadata": {},
   "outputs": [
    {
     "data": {
      "image/png": "[encoded data removed]",
      "text/plain": [
       "<Figure size 576x396 with 1 Axes>"
      ]
     },
     "metadata": {},
     "output_type": "display_data"
    }
   ],
   "source": [
    "# Plotting the above\n",
    "sns.set(style = 'darkgrid')\n",
    "sns.countplot('Sex', data = titanic, palette = 'Paired')\n",
    "plt.title('Number of male & female passengers',fontdict={'fontweight': 'bold',\n",
    "                                              'fontsize': 18})\n",
    "\n",
    "plt.show()"
   ]
  },
  {
   "cell_type": "markdown",
   "metadata": {},
   "source": [
    "#### Question 4: How many survived, by gender"
   ]
  },
  {
   "cell_type": "code",
   "execution_count": 10,
   "metadata": {},
   "outputs": [
    {
     "data": {
      "text/plain": [
       "Sex     Survived\n",
       "female  0            81\n",
       "        1           233\n",
       "male    0           468\n",
       "        1           109\n",
       "Name: Survived, dtype: int64"
      ]
     },
     "execution_count": 10,
     "metadata": {},
     "output_type": "execute_result"
    }
   ],
   "source": [
    "titanic.groupby(['Sex','Survived'])['Survived'].size()"
   ]
  },
  {
   "cell_type": "markdown",
   "metadata": {},
   "source": [
    "###### Analysis\n",
    "From the above results it is clear that survived more females than males. The survival ration of females is greater than the survival ration of males."
   ]
  },
  {
   "cell_type": "code",
   "execution_count": 11,
   "metadata": {},
   "outputs": [
    {
     "data": {
      "image/png": "[encoded data removed]",
      "text/plain": [
       "<Figure size 576x396 with 1 Axes>"
      ]
     },
     "metadata": {},
     "output_type": "display_data"
    }
   ],
   "source": [
    "# Plotting the above results\n",
    "sns.countplot('Sex', hue = 'Survived', data = titanic)\n",
    "plt.title('Survived by gender',fontdict={'fontweight': 'bold',\n",
    "                                              'fontsize': 18})\n",
    "plt.show()"
   ]
  },
  {
   "cell_type": "markdown",
   "metadata": {},
   "source": [
    "#### Question 5: How many passengers of each pclass survevd?"
   ]
  },
  {
   "cell_type": "code",
   "execution_count": 12,
   "metadata": {},
   "outputs": [
    {
     "data": {
      "text/plain": [
       "Pclass  Survived\n",
       "1       0            80\n",
       "        1           136\n",
       "2       0            97\n",
       "        1            87\n",
       "3       0           372\n",
       "        1           119\n",
       "Name: Survived, dtype: int64"
      ]
     },
     "execution_count": 12,
     "metadata": {},
     "output_type": "execute_result"
    }
   ],
   "source": [
    "titanic.groupby(['Pclass','Survived'])['Survived'].count()"
   ]
  },
  {
   "cell_type": "code",
   "execution_count": 13,
   "metadata": {},
   "outputs": [
    {
     "name": "stdout",
     "output_type": "stream",
     "text": [
      "PERCENTAGE BY ROW\n",
      "           Survived           \n",
      "Survived          0          1\n",
      "Pclass                        \n",
      "1         14.571949  39.766082\n",
      "2         17.668488  25.438596\n",
      "3         67.759563  34.795322 \n",
      "\n",
      "PERCENTAGE BY COLUMN\n",
      "           Survived           \n",
      "Survived          0          1\n",
      "Pclass                        \n",
      "1         37.037037  62.962963\n",
      "2         52.717391  47.282609\n",
      "3         75.763747  24.236253\n"
     ]
    }
   ],
   "source": [
    "# Calculating the pecentage survived for each pclass\n",
    "t = titanic.groupby(['Pclass','Survived'])['Survived'].count()\n",
    "t = pd.DataFrame(t)\n",
    "t = t.unstack()\n",
    "\n",
    "# we calculate the percentage of each class by column and by row\n",
    "col = t.iloc[:,0:].apply(lambda x: (x/x.sum())*100)\n",
    "row = t.iloc[:,0:].apply(lambda x: (x/x.sum())*100, axis = 1)\n",
    "print('PERCENTAGE BY ROW')\n",
    "print(col,'\\n')\n",
    "print('PERCENTAGE BY COLUMN')\n",
    "print(row)"
   ]
  },
  {
   "cell_type": "code",
   "execution_count": 14,
   "metadata": {},
   "outputs": [
    {
     "data": {
      "image/png": "[encoded data removed]",
      "text/plain": [
       "<Figure size 576x396 with 1 Axes>"
      ]
     },
     "metadata": {},
     "output_type": "display_data"
    }
   ],
   "source": [
    "sns.countplot('Pclass', hue = 'Survived', data = titanic)\n",
    "plt.title('Survived by Pclass',fontdict={'fontweight': 'bold',\n",
    "                                              'fontsize': 18})\n",
    "plt.show()"
   ]
  },
  {
   "cell_type": "markdown",
   "metadata": {},
   "source": [
    "###### Analysis\n",
    "The bar chart shows that the highest number of not survivals is for passengers with 3rd pclass and the lowest is for 1st class. On the other hand, the highest number of survivals is for 1st class passengers and the lowest numbers is observed on 2nd class passengers. \n",
    "We empower our conclusion by calculating the percentage of survived and non survived by class and we conclude in the same result.\n",
    "Also, almost 63% of 1st class passengers survived, while 75% of 3rd class passengers did not survived."
   ]
  },
  {
   "cell_type": "markdown",
   "metadata": {},
   "source": [
    "#### Question 6: Combine gender / survived and classes"
   ]
  },
  {
   "cell_type": "code",
   "execution_count": 15,
   "metadata": {},
   "outputs": [
    {
     "data": {
      "text/html": [
       "<style  type=\"text/css\" >\n",
       "    #T_77b5eac0_889e_11ea_926a_e4e74946844drow0_col0 {\n",
       "            background-color:  #008066;\n",
       "            color:  #f1f1f1;\n",
       "        }    #T_77b5eac0_889e_11ea_926a_e4e74946844drow0_col1 {\n",
       "            background-color:  #008066;\n",
       "            color:  #f1f1f1;\n",
       "        }    #T_77b5eac0_889e_11ea_926a_e4e74946844drow0_col2 {\n",
       "            background-color:  #0e8666;\n",
       "            color:  #000000;\n",
       "        }    #T_77b5eac0_889e_11ea_926a_e4e74946844drow0_col3 {\n",
       "            background-color:  #008066;\n",
       "            color:  #f1f1f1;\n",
       "        }    #T_77b5eac0_889e_11ea_926a_e4e74946844drow1_col0 {\n",
       "            background-color:  #69b466;\n",
       "            color:  #000000;\n",
       "        }    #T_77b5eac0_889e_11ea_926a_e4e74946844drow1_col1 {\n",
       "            background-color:  #5cae66;\n",
       "            color:  #000000;\n",
       "        }    #T_77b5eac0_889e_11ea_926a_e4e74946844drow1_col2 {\n",
       "            background-color:  #0e8666;\n",
       "            color:  #000000;\n",
       "        }    #T_77b5eac0_889e_11ea_926a_e4e74946844drow1_col3 {\n",
       "            background-color:  #309866;\n",
       "            color:  #000000;\n",
       "        }    #T_77b5eac0_889e_11ea_926a_e4e74946844drow2_col0 {\n",
       "            background-color:  #58ac66;\n",
       "            color:  #000000;\n",
       "        }    #T_77b5eac0_889e_11ea_926a_e4e74946844drow2_col1 {\n",
       "            background-color:  #7abc66;\n",
       "            color:  #000000;\n",
       "        }    #T_77b5eac0_889e_11ea_926a_e4e74946844drow2_col2 {\n",
       "            background-color:  #91c866;\n",
       "            color:  #000000;\n",
       "        }    #T_77b5eac0_889e_11ea_926a_e4e74946844drow2_col3 {\n",
       "            background-color:  #7abc66;\n",
       "            color:  #000000;\n",
       "        }    #T_77b5eac0_889e_11ea_926a_e4e74946844drow3_col0 {\n",
       "            background-color:  #329866;\n",
       "            color:  #000000;\n",
       "        }    #T_77b5eac0_889e_11ea_926a_e4e74946844drow3_col1 {\n",
       "            background-color:  #0f8766;\n",
       "            color:  #000000;\n",
       "        }    #T_77b5eac0_889e_11ea_926a_e4e74946844drow3_col2 {\n",
       "            background-color:  #008066;\n",
       "            color:  #f1f1f1;\n",
       "        }    #T_77b5eac0_889e_11ea_926a_e4e74946844drow3_col3 {\n",
       "            background-color:  #088466;\n",
       "            color:  #f1f1f1;\n",
       "        }    #T_77b5eac0_889e_11ea_926a_e4e74946844drow4_col0 {\n",
       "            background-color:  #ffff66;\n",
       "            color:  #000000;\n",
       "        }    #T_77b5eac0_889e_11ea_926a_e4e74946844drow4_col1 {\n",
       "            background-color:  #ffff66;\n",
       "            color:  #000000;\n",
       "        }    #T_77b5eac0_889e_11ea_926a_e4e74946844drow4_col2 {\n",
       "            background-color:  #ffff66;\n",
       "            color:  #000000;\n",
       "        }    #T_77b5eac0_889e_11ea_926a_e4e74946844drow4_col3 {\n",
       "            background-color:  #ffff66;\n",
       "            color:  #000000;\n",
       "        }</style><table id=\"T_77b5eac0_889e_11ea_926a_e4e74946844d\" ><thead>    <tr>        <th class=\"blank\" ></th>        <th class=\"index_name level0\" >Pclass</th>        <th class=\"col_heading level0 col0\" >1</th>        <th class=\"col_heading level0 col1\" >2</th>        <th class=\"col_heading level0 col2\" >3</th>        <th class=\"col_heading level0 col3\" >All</th>    </tr>    <tr>        <th class=\"index_name level0\" >Sex</th>        <th class=\"index_name level1\" >Survived</th>        <th class=\"blank\" ></th>        <th class=\"blank\" ></th>        <th class=\"blank\" ></th>        <th class=\"blank\" ></th>    </tr></thead><tbody>\n",
       "                <tr>\n",
       "                        <th id=\"T_77b5eac0_889e_11ea_926a_e4e74946844dlevel0_row0\" class=\"row_heading level0 row0\" rowspan=2>female</th>\n",
       "                        <th id=\"T_77b5eac0_889e_11ea_926a_e4e74946844dlevel1_row0\" class=\"row_heading level1 row0\" >0</th>\n",
       "                        <td id=\"T_77b5eac0_889e_11ea_926a_e4e74946844drow0_col0\" class=\"data row0 col0\" >3</td>\n",
       "                        <td id=\"T_77b5eac0_889e_11ea_926a_e4e74946844drow0_col1\" class=\"data row0 col1\" >6</td>\n",
       "                        <td id=\"T_77b5eac0_889e_11ea_926a_e4e74946844drow0_col2\" class=\"data row0 col2\" >72</td>\n",
       "                        <td id=\"T_77b5eac0_889e_11ea_926a_e4e74946844drow0_col3\" class=\"data row0 col3\" >81</td>\n",
       "            </tr>\n",
       "            <tr>\n",
       "                                <th id=\"T_77b5eac0_889e_11ea_926a_e4e74946844dlevel1_row1\" class=\"row_heading level1 row1\" >1</th>\n",
       "                        <td id=\"T_77b5eac0_889e_11ea_926a_e4e74946844drow1_col0\" class=\"data row1 col0\" >91</td>\n",
       "                        <td id=\"T_77b5eac0_889e_11ea_926a_e4e74946844drow1_col1\" class=\"data row1 col1\" >70</td>\n",
       "                        <td id=\"T_77b5eac0_889e_11ea_926a_e4e74946844drow1_col2\" class=\"data row1 col2\" >72</td>\n",
       "                        <td id=\"T_77b5eac0_889e_11ea_926a_e4e74946844drow1_col3\" class=\"data row1 col3\" >233</td>\n",
       "            </tr>\n",
       "            <tr>\n",
       "                        <th id=\"T_77b5eac0_889e_11ea_926a_e4e74946844dlevel0_row2\" class=\"row_heading level0 row2\" rowspan=2>male</th>\n",
       "                        <th id=\"T_77b5eac0_889e_11ea_926a_e4e74946844dlevel1_row2\" class=\"row_heading level1 row2\" >0</th>\n",
       "                        <td id=\"T_77b5eac0_889e_11ea_926a_e4e74946844drow2_col0\" class=\"data row2 col0\" >77</td>\n",
       "                        <td id=\"T_77b5eac0_889e_11ea_926a_e4e74946844drow2_col1\" class=\"data row2 col1\" >91</td>\n",
       "                        <td id=\"T_77b5eac0_889e_11ea_926a_e4e74946844drow2_col2\" class=\"data row2 col2\" >300</td>\n",
       "                        <td id=\"T_77b5eac0_889e_11ea_926a_e4e74946844drow2_col3\" class=\"data row2 col3\" >468</td>\n",
       "            </tr>\n",
       "            <tr>\n",
       "                                <th id=\"T_77b5eac0_889e_11ea_926a_e4e74946844dlevel1_row3\" class=\"row_heading level1 row3\" >1</th>\n",
       "                        <td id=\"T_77b5eac0_889e_11ea_926a_e4e74946844drow3_col0\" class=\"data row3 col0\" >45</td>\n",
       "                        <td id=\"T_77b5eac0_889e_11ea_926a_e4e74946844drow3_col1\" class=\"data row3 col1\" >17</td>\n",
       "                        <td id=\"T_77b5eac0_889e_11ea_926a_e4e74946844drow3_col2\" class=\"data row3 col2\" >47</td>\n",
       "                        <td id=\"T_77b5eac0_889e_11ea_926a_e4e74946844drow3_col3\" class=\"data row3 col3\" >109</td>\n",
       "            </tr>\n",
       "            <tr>\n",
       "                        <th id=\"T_77b5eac0_889e_11ea_926a_e4e74946844dlevel0_row4\" class=\"row_heading level0 row4\" >All</th>\n",
       "                        <th id=\"T_77b5eac0_889e_11ea_926a_e4e74946844dlevel1_row4\" class=\"row_heading level1 row4\" ></th>\n",
       "                        <td id=\"T_77b5eac0_889e_11ea_926a_e4e74946844drow4_col0\" class=\"data row4 col0\" >216</td>\n",
       "                        <td id=\"T_77b5eac0_889e_11ea_926a_e4e74946844drow4_col1\" class=\"data row4 col1\" >184</td>\n",
       "                        <td id=\"T_77b5eac0_889e_11ea_926a_e4e74946844drow4_col2\" class=\"data row4 col2\" >491</td>\n",
       "                        <td id=\"T_77b5eac0_889e_11ea_926a_e4e74946844drow4_col3\" class=\"data row4 col3\" >891</td>\n",
       "            </tr>\n",
       "    </tbody></table>"
      ],
      "text/plain": [
       "<pandas.io.formats.style.Styler at 0x1ca25ad57c8>"
      ]
     },
     "execution_count": 15,
     "metadata": {},
     "output_type": "execute_result"
    }
   ],
   "source": [
    "pd.crosstab([titanic.Sex, titanic.Survived], titanic.Pclass,\n",
    "            margins=True).style.background_gradient(cmap = 'summer')"
   ]
  },
  {
   "cell_type": "code",
   "execution_count": 16,
   "metadata": {},
   "outputs": [
    {
     "data": {
      "image/png": "[encoded data removed]",
      "text/plain": [
       "<Figure size 432.85x360 with 1 Axes>"
      ]
     },
     "metadata": {},
     "output_type": "display_data"
    }
   ],
   "source": [
    "sns.factorplot('Pclass','Survived', hue = 'Sex', data = titanic)\n",
    "plt.show()"
   ]
  },
  {
   "cell_type": "markdown",
   "metadata": {},
   "source": [
    "###### Analysis\n",
    "The plot shows the rate of survived passengeres on each class separated by gender. It is clear that in all cases rate of female apssengers who surveved is greater than men passengers. It is also clear that in both cases for females and males, the highest number of passengers who survived comes from class 1. "
   ]
  },
  {
   "cell_type": "markdown",
   "metadata": {},
   "source": [
    "#### Question 7: Replace nan values in age column by the mean value of the column"
   ]
  },
  {
   "cell_type": "code",
   "execution_count": 17,
   "metadata": {},
   "outputs": [],
   "source": [
    "# Calculate the mean of the column Age\n",
    "mean = titanic.Age.mean()\n",
    "\n",
    "# Replace every nan value with the mean\n",
    "titanic['Age'].fillna(mean, inplace=True)\n",
    "\n",
    "# Change the dtype of the column from float to int\n",
    "titanic['Age'] = titanic.Age.astype('int')"
   ]
  },
  {
   "cell_type": "markdown",
   "metadata": {},
   "source": [
    "#### Question 8: Statistics about age and Plotting "
   ]
  },
  {
   "cell_type": "code",
   "execution_count": 18,
   "metadata": {},
   "outputs": [
    {
     "name": "stdout",
     "output_type": "stream",
     "text": [
      "The oldest passenger:  80\n",
      "The yougest passenger:  0\n",
      "The mean age of passengers:  29.544332210998878\n",
      "The median value of ages:  29.0\n",
      "The std of ages:  13.013778302447077\n"
     ]
    }
   ],
   "source": [
    "max = titanic.Age.max()\n",
    "min = titanic.Age.min()\n",
    "mean = titanic.Age.mean()\n",
    "median = titanic.Age.median()\n",
    "std = titanic.Age.std()\n",
    "\n",
    "print('The oldest passenger: ', max)\n",
    "print('The yougest passenger: ', min)\n",
    "print('The mean age of passengers: ', mean)\n",
    "print('The median value of ages: ', median)\n",
    "print('The std of ages: ', std)"
   ]
  },
  {
   "cell_type": "markdown",
   "metadata": {},
   "source": [
    "###### Analysis\n",
    "The mean and the median are equal, that means that we have a normal distribution!"
   ]
  },
  {
   "cell_type": "code",
   "execution_count": 19,
   "metadata": {},
   "outputs": [
    {
     "data": {
      "image/png": "[encoded data removed]",
      "text/plain": [
       "<Figure size 720x360 with 1 Axes>"
      ]
     },
     "metadata": {},
     "output_type": "display_data"
    }
   ],
   "source": [
    "plt.figure(figsize=(10,5))\n",
    "\n",
    "# From column titanic.Age, save them in a variable and sort all of them\n",
    "age = titanic.Age.sort_values()\n",
    "fit = norm.pdf(age,mean,std)\n",
    "\n",
    "plt.plot(age, fit,label='Normal distribution') # plot the line of normal distribution\n",
    "plt.hist(age, normed=True, color = 'bisque') # plot the hist\n",
    "plt.axvline(mean, color = 'red', label = 'mean') # plot the mean line\n",
    "plt.axvline(median, color = 'lime', label = 'median') # plot the mean line\n",
    "\n",
    "\n",
    "plt.title('Histogram of Ages',fontdict={'fontweight': 'bold',                                       'fontsize': 18})\n",
    "plt.xlabel('Ages', fontweight = 'bold')\n",
    "plt.ylabel('Density', fontweight = 'bold')\n",
    "\n",
    "plt.legend()\n",
    "plt.show()"
   ]
  },
  {
   "cell_type": "markdown",
   "metadata": {},
   "source": [
    "#### Question 9: Relationship between age and survived"
   ]
  },
  {
   "cell_type": "code",
   "execution_count": 52,
   "metadata": {},
   "outputs": [
    {
     "data": {
      "image/png": "[encoded data removed]",
      "text/plain": [
       "<Figure size 720x360 with 1 Axes>"
      ]
     },
     "metadata": {},
     "output_type": "display_data"
    }
   ],
   "source": [
    "# Plot the bar chart that shows how many survived depending their age\n",
    "w = pd.crosstab(titanic.Age//10*10, titanic.Survived) # separate the passengers \n",
    "# on decates\n",
    "w.plot(kind = 'bar', title = 'Correlation between age and survived', fontsize = 10,\n",
    "      figsize = (10,5))\n",
    "plt.show()"
   ]
  },
  {
   "cell_type": "markdown",
   "metadata": {},
   "source": [
    "###### Analysis\n",
    "From the above chart it is clear that most passengers did not survived regardless the age group they belong. The biggest difference between the passengers who survived and them who did not, is observed in the range from 20 to 30 years old. The only exception is shown in younger ages and especially from 0 to 10. Among these ages, the number of passengers who survived is greater than the ones who did not. On the other hand from 20 to 30 there is the biggest difference between those who did not survived and those who survived. The most passengers who survived and also the passengers who did not achive to survive, both of them are in the same age group. Between 20 and 30. \n",
    "###### Notice!\n",
    "In the initial dataset there were 177 non value rows in the age column, that means about 20% of the whole rows. I replaced all these non rows with the mean value of all the other rows of the column. "
   ]
  },
  {
   "cell_type": "markdown",
   "metadata": {},
   "source": [
    "#### Question 10: Relationship between class and age"
   ]
  },
  {
   "cell_type": "code",
   "execution_count": 62,
   "metadata": {},
   "outputs": [
    {
     "data": {
      "text/html": [
       "<div>\n",
       "<style scoped>\n",
       "    .dataframe tbody tr th:only-of-type {\n",
       "        vertical-align: middle;\n",
       "    }\n",
       "\n",
       "    .dataframe tbody tr th {\n",
       "        vertical-align: top;\n",
       "    }\n",
       "\n",
       "    .dataframe thead th {\n",
       "        text-align: right;\n",
       "    }\n",
       "</style>\n",
       "<table border=\"1\" class=\"dataframe\">\n",
       "  <thead>\n",
       "    <tr style=\"text-align: right;\">\n",
       "      <th>Pclass</th>\n",
       "      <th>1</th>\n",
       "      <th>2</th>\n",
       "      <th>3</th>\n",
       "    </tr>\n",
       "    <tr>\n",
       "      <th>Age</th>\n",
       "      <th></th>\n",
       "      <th></th>\n",
       "      <th></th>\n",
       "    </tr>\n",
       "  </thead>\n",
       "  <tbody>\n",
       "    <tr>\n",
       "      <td>0</td>\n",
       "      <td>3</td>\n",
       "      <td>17</td>\n",
       "      <td>42</td>\n",
       "    </tr>\n",
       "    <tr>\n",
       "      <td>10</td>\n",
       "      <td>18</td>\n",
       "      <td>18</td>\n",
       "      <td>66</td>\n",
       "    </tr>\n",
       "    <tr>\n",
       "      <td>20</td>\n",
       "      <td>64</td>\n",
       "      <td>64</td>\n",
       "      <td>269</td>\n",
       "    </tr>\n",
       "    <tr>\n",
       "      <td>30</td>\n",
       "      <td>50</td>\n",
       "      <td>48</td>\n",
       "      <td>69</td>\n",
       "    </tr>\n",
       "    <tr>\n",
       "      <td>40</td>\n",
       "      <td>37</td>\n",
       "      <td>18</td>\n",
       "      <td>34</td>\n",
       "    </tr>\n",
       "    <tr>\n",
       "      <td>50</td>\n",
       "      <td>27</td>\n",
       "      <td>15</td>\n",
       "      <td>6</td>\n",
       "    </tr>\n",
       "    <tr>\n",
       "      <td>60</td>\n",
       "      <td>13</td>\n",
       "      <td>3</td>\n",
       "      <td>3</td>\n",
       "    </tr>\n",
       "    <tr>\n",
       "      <td>70</td>\n",
       "      <td>3</td>\n",
       "      <td>1</td>\n",
       "      <td>2</td>\n",
       "    </tr>\n",
       "    <tr>\n",
       "      <td>80</td>\n",
       "      <td>1</td>\n",
       "      <td>0</td>\n",
       "      <td>0</td>\n",
       "    </tr>\n",
       "  </tbody>\n",
       "</table>\n",
       "</div>"
      ],
      "text/plain": [
       "Pclass   1   2    3\n",
       "Age                \n",
       "0        3  17   42\n",
       "10      18  18   66\n",
       "20      64  64  269\n",
       "30      50  48   69\n",
       "40      37  18   34\n",
       "50      27  15    6\n",
       "60      13   3    3\n",
       "70       3   1    2\n",
       "80       1   0    0"
      ]
     },
     "execution_count": 62,
     "metadata": {},
     "output_type": "execute_result"
    }
   ],
   "source": [
    "ap = pd.crosstab()\n",
    "ap"
   ]
  },
  {
   "cell_type": "markdown",
   "metadata": {},
   "source": [
    "From the table we can discern that passengers who are older than 40 prefer 1st class in contrast with most younger passengers who prefer 3rd class. "
   ]
  },
  {
   "cell_type": "markdown",
   "metadata": {},
   "source": [
    "#### Question 11: Calculate the family members"
   ]
  },
  {
   "cell_type": "code",
   "execution_count": 89,
   "metadata": {},
   "outputs": [
    {
     "data": {
      "text/plain": [
       "0    608\n",
       "1    209\n",
       "2     28\n",
       "3     16\n",
       "4     18\n",
       "5      5\n",
       "8      7\n",
       "Name: SibSp, dtype: int64"
      ]
     },
     "execution_count": 89,
     "metadata": {},
     "output_type": "execute_result"
    }
   ],
   "source": [
    "titanic.SibSp.value_counts().sort_index(ascending = True)"
   ]
  },
  {
   "cell_type": "markdown",
   "metadata": {},
   "source": [
    "Most of the passengers traveled alone."
   ]
  },
  {
   "cell_type": "markdown",
   "metadata": {},
   "source": [
    "#### Question 12: Family members and Pclasses"
   ]
  },
  {
   "cell_type": "code",
   "execution_count": 108,
   "metadata": {},
   "outputs": [
    {
     "data": {
      "text/html": [
       "<style  type=\"text/css\" >\n",
       "    #T_fb61b55a_88b2_11ea_8a4c_e4e74946844drow0_col0 {\n",
       "            background-color:  #a8dca2;\n",
       "            color:  #000000;\n",
       "        }    #T_fb61b55a_88b2_11ea_8a4c_e4e74946844drow0_col1 {\n",
       "            background-color:  #3ca559;\n",
       "            color:  #000000;\n",
       "        }    #T_fb61b55a_88b2_11ea_8a4c_e4e74946844drow1_col0 {\n",
       "            background-color:  #f7fcf5;\n",
       "            color:  #000000;\n",
       "        }    #T_fb61b55a_88b2_11ea_8a4c_e4e74946844drow1_col1 {\n",
       "            background-color:  #00441b;\n",
       "            color:  #f1f1f1;\n",
       "        }    #T_fb61b55a_88b2_11ea_8a4c_e4e74946844drow2_col0 {\n",
       "            background-color:  #e3f4de;\n",
       "            color:  #000000;\n",
       "        }    #T_fb61b55a_88b2_11ea_8a4c_e4e74946844drow2_col1 {\n",
       "            background-color:  #026f2e;\n",
       "            color:  #f1f1f1;\n",
       "        }    #T_fb61b55a_88b2_11ea_8a4c_e4e74946844drow3_col0 {\n",
       "            background-color:  #66bd6f;\n",
       "            color:  #000000;\n",
       "        }    #T_fb61b55a_88b2_11ea_8a4c_e4e74946844drow3_col1 {\n",
       "            background-color:  #80ca80;\n",
       "            color:  #000000;\n",
       "        }    #T_fb61b55a_88b2_11ea_8a4c_e4e74946844drow4_col0 {\n",
       "            background-color:  #319a50;\n",
       "            color:  #000000;\n",
       "        }    #T_fb61b55a_88b2_11ea_8a4c_e4e74946844drow4_col1 {\n",
       "            background-color:  #b5e1ae;\n",
       "            color:  #000000;\n",
       "        }    #T_fb61b55a_88b2_11ea_8a4c_e4e74946844drow5_col0 {\n",
       "            background-color:  #00441b;\n",
       "            color:  #f1f1f1;\n",
       "        }    #T_fb61b55a_88b2_11ea_8a4c_e4e74946844drow5_col1 {\n",
       "            background-color:  #f7fcf5;\n",
       "            color:  #000000;\n",
       "        }    #T_fb61b55a_88b2_11ea_8a4c_e4e74946844drow6_col0 {\n",
       "            background-color:  #00441b;\n",
       "            color:  #f1f1f1;\n",
       "        }    #T_fb61b55a_88b2_11ea_8a4c_e4e74946844drow6_col1 {\n",
       "            background-color:  #f7fcf5;\n",
       "            color:  #000000;\n",
       "        }    #T_fb61b55a_88b2_11ea_8a4c_e4e74946844drow7_col0 {\n",
       "            background-color:  #bde5b6;\n",
       "            color:  #000000;\n",
       "        }    #T_fb61b55a_88b2_11ea_8a4c_e4e74946844drow7_col1 {\n",
       "            background-color:  #2b934b;\n",
       "            color:  #000000;\n",
       "        }</style><table id=\"T_fb61b55a_88b2_11ea_8a4c_e4e74946844d\" ><thead>    <tr>        <th class=\"index_name level0\" >Survived</th>        <th class=\"col_heading level0 col0\" >0</th>        <th class=\"col_heading level0 col1\" >1</th>    </tr>    <tr>        <th class=\"index_name level0\" >SibSp</th>        <th class=\"blank\" ></th>        <th class=\"blank\" ></th>    </tr></thead><tbody>\n",
       "                <tr>\n",
       "                        <th id=\"T_fb61b55a_88b2_11ea_8a4c_e4e74946844dlevel0_row0\" class=\"row_heading level0 row0\" >0</th>\n",
       "                        <td id=\"T_fb61b55a_88b2_11ea_8a4c_e4e74946844drow0_col0\" class=\"data row0 col0\" >0.654605</td>\n",
       "                        <td id=\"T_fb61b55a_88b2_11ea_8a4c_e4e74946844drow0_col1\" class=\"data row0 col1\" >0.345395</td>\n",
       "            </tr>\n",
       "            <tr>\n",
       "                        <th id=\"T_fb61b55a_88b2_11ea_8a4c_e4e74946844dlevel0_row1\" class=\"row_heading level0 row1\" >1</th>\n",
       "                        <td id=\"T_fb61b55a_88b2_11ea_8a4c_e4e74946844drow1_col0\" class=\"data row1 col0\" >0.464115</td>\n",
       "                        <td id=\"T_fb61b55a_88b2_11ea_8a4c_e4e74946844drow1_col1\" class=\"data row1 col1\" >0.535885</td>\n",
       "            </tr>\n",
       "            <tr>\n",
       "                        <th id=\"T_fb61b55a_88b2_11ea_8a4c_e4e74946844dlevel0_row2\" class=\"row_heading level0 row2\" >2</th>\n",
       "                        <td id=\"T_fb61b55a_88b2_11ea_8a4c_e4e74946844drow2_col0\" class=\"data row2 col0\" >0.535714</td>\n",
       "                        <td id=\"T_fb61b55a_88b2_11ea_8a4c_e4e74946844drow2_col1\" class=\"data row2 col1\" >0.464286</td>\n",
       "            </tr>\n",
       "            <tr>\n",
       "                        <th id=\"T_fb61b55a_88b2_11ea_8a4c_e4e74946844dlevel0_row3\" class=\"row_heading level0 row3\" >3</th>\n",
       "                        <td id=\"T_fb61b55a_88b2_11ea_8a4c_e4e74946844drow3_col0\" class=\"data row3 col0\" >0.75</td>\n",
       "                        <td id=\"T_fb61b55a_88b2_11ea_8a4c_e4e74946844drow3_col1\" class=\"data row3 col1\" >0.25</td>\n",
       "            </tr>\n",
       "            <tr>\n",
       "                        <th id=\"T_fb61b55a_88b2_11ea_8a4c_e4e74946844dlevel0_row4\" class=\"row_heading level0 row4\" >4</th>\n",
       "                        <td id=\"T_fb61b55a_88b2_11ea_8a4c_e4e74946844drow4_col0\" class=\"data row4 col0\" >0.833333</td>\n",
       "                        <td id=\"T_fb61b55a_88b2_11ea_8a4c_e4e74946844drow4_col1\" class=\"data row4 col1\" >0.166667</td>\n",
       "            </tr>\n",
       "            <tr>\n",
       "                        <th id=\"T_fb61b55a_88b2_11ea_8a4c_e4e74946844dlevel0_row5\" class=\"row_heading level0 row5\" >5</th>\n",
       "                        <td id=\"T_fb61b55a_88b2_11ea_8a4c_e4e74946844drow5_col0\" class=\"data row5 col0\" >1</td>\n",
       "                        <td id=\"T_fb61b55a_88b2_11ea_8a4c_e4e74946844drow5_col1\" class=\"data row5 col1\" >0</td>\n",
       "            </tr>\n",
       "            <tr>\n",
       "                        <th id=\"T_fb61b55a_88b2_11ea_8a4c_e4e74946844dlevel0_row6\" class=\"row_heading level0 row6\" >8</th>\n",
       "                        <td id=\"T_fb61b55a_88b2_11ea_8a4c_e4e74946844drow6_col0\" class=\"data row6 col0\" >1</td>\n",
       "                        <td id=\"T_fb61b55a_88b2_11ea_8a4c_e4e74946844drow6_col1\" class=\"data row6 col1\" >0</td>\n",
       "            </tr>\n",
       "            <tr>\n",
       "                        <th id=\"T_fb61b55a_88b2_11ea_8a4c_e4e74946844dlevel0_row7\" class=\"row_heading level0 row7\" >All</th>\n",
       "                        <td id=\"T_fb61b55a_88b2_11ea_8a4c_e4e74946844drow7_col0\" class=\"data row7 col0\" >0.616162</td>\n",
       "                        <td id=\"T_fb61b55a_88b2_11ea_8a4c_e4e74946844drow7_col1\" class=\"data row7 col1\" >0.383838</td>\n",
       "            </tr>\n",
       "    </tbody></table>"
      ],
      "text/plain": [
       "<pandas.io.formats.style.Styler at 0x1ca3cd3be08>"
      ]
     },
     "execution_count": 108,
     "metadata": {},
     "output_type": "execute_result"
    }
   ],
   "source": [
    "pd.crosstab(titanic.SibSp, titanic.Survived,\n",
    "           normalize='index', margins=True).style.background_gradient('Greens')"
   ]
  },
  {
   "cell_type": "code",
   "execution_count": 99,
   "metadata": {},
   "outputs": [
    {
     "data": {
      "image/png": "[encoded data removed]",
      "text/plain": [
       "<Figure size 576x396 with 1 Axes>"
      ]
     },
     "metadata": {},
     "output_type": "display_data"
    }
   ],
   "source": [
    "sns.barplot('SibSp', 'Survived', data = titanic)\n",
    "plt.show()"
   ]
  },
  {
   "cell_type": "markdown",
   "metadata": {},
   "source": [
    "The highest chances for survival have the the passengers who have only one sigbling onboard. As the number of siblings increase, the graph dicreases. So, the chances of survival in big families is low. Especially, in big families with 5 and 8 members there is no member who survived. Another parameter that we have to take into account is the fact that most big families have been 3rd class and as we saw above priority for survival had 1st class and 2nd class. "
   ]
  },
  {
   "cell_type": "code",
   "execution_count": null,
   "metadata": {},
   "outputs": [],
   "source": []
  }
 ],
 "metadata": {
  "kernelspec": {
   "display_name": "Python 3",
   "language": "python",
   "name": "python3"
  },
  "language_info": {
   "codemirror_mode": {
    "name": "ipython",
    "version": 3
   },
   "file_extension": ".py",
   "mimetype": "text/x-python",
   "name": "python",
   "nbconvert_exporter": "python",
   "pygments_lexer": "ipython3",
   "version": "3.7.4"
  }
 },
 "nbformat": 4,
 "nbformat_minor": 4
}
